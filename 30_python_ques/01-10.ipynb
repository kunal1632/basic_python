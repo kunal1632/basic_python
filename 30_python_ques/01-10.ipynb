{
 "cells": [
  {
   "cell_type": "markdown",
   "id": "29739509",
   "metadata": {},
   "source": [
    "### Question-1: Write a program which will find all such numbers which are divisible by 7 but are not a multiple of 5, between 2000 and 3200 (both included). The numbers obtained should be printed in a comma-separated sequence on a single line."
   ]
  },
  {
   "cell_type": "code",
   "execution_count": 1,
   "id": "8ea419d8",
   "metadata": {},
   "outputs": [
    {
     "name": "stdout",
     "output_type": "stream",
     "text": [
      "[2002, 2009, 2016, 2023, 2037, 2044, 2051, 2058, 2072, 2079, 2086, 2093, 2107, 2114, 2121, 2128, 2142, 2149, 2156, 2163, 2177, 2184, 2191, 2198, 2212, 2219, 2226, 2233, 2247, 2254, 2261, 2268, 2282, 2289, 2296, 2303, 2317, 2324, 2331, 2338, 2352, 2359, 2366, 2373, 2387, 2394, 2401, 2408, 2422, 2429, 2436, 2443, 2457, 2464, 2471, 2478, 2492, 2499, 2506, 2513, 2527, 2534, 2541, 2548, 2562, 2569, 2576, 2583, 2597, 2604, 2611, 2618, 2632, 2639, 2646, 2653, 2667, 2674, 2681, 2688, 2702, 2709, 2716, 2723, 2737, 2744, 2751, 2758, 2772, 2779, 2786, 2793, 2807, 2814, 2821, 2828, 2842, 2849, 2856, 2863, 2877, 2884, 2891, 2898, 2912, 2919, 2926, 2933, 2947, 2954, 2961, 2968, 2982, 2989, 2996, 3003, 3017, 3024, 3031, 3038, 3052, 3059, 3066, 3073, 3087, 3094, 3101, 3108, 3122, 3129, 3136, 3143, 3157, 3164, 3171, 3178, 3192, 3199]\n"
     ]
    }
   ],
   "source": [
    "ans=[]\n",
    "for i in range(2002,3200,7):\n",
    "    if i%5!=0:\n",
    "        ans.append(i)\n",
    "print(ans)"
   ]
  },
  {
   "cell_type": "markdown",
   "id": "f4856421",
   "metadata": {},
   "source": [
    "### Question-2: Write a program which can compute the factorial of a given numbers. The results should be printed in a comma-separated sequence on a single line. Suppose the following input is supplied to the program: 8 Then, the output should be: 40320"
   ]
  },
  {
   "cell_type": "code",
   "execution_count": 2,
   "id": "d7ba965a",
   "metadata": {},
   "outputs": [
    {
     "name": "stdout",
     "output_type": "stream",
     "text": [
      "Enter a number8\n",
      "ans is: 40320\n"
     ]
    }
   ],
   "source": [
    "def fact(n):\n",
    "    if n==0:\n",
    "        return 1\n",
    "    return n*fact(n-1)\n",
    "\n",
    "num=int(input(\"Enter a number\"))\n",
    "ans=fact(num)\n",
    "print(f'ans is: {ans}')"
   ]
  },
  {
   "cell_type": "markdown",
   "id": "012c6075",
   "metadata": {},
   "source": [
    "### Question-3: With a given integral number n, write a program to generate a dictionary that contains (i, i*i) such that is an integral number between 1 and n (both included). and then the program should print the dictionary. Suppose the following input is supplied to the program: 8 Then, the output should be: {1: 1, 2: 4, 3: 9, 4: 16, 5: 25, 6: 36, 7: 49, 8: 64}"
   ]
  },
  {
   "cell_type": "code",
   "execution_count": 3,
   "id": "7fb2762f",
   "metadata": {},
   "outputs": [
    {
     "name": "stdout",
     "output_type": "stream",
     "text": [
      "Enter a number10\n",
      "{1: 1, 2: 4, 3: 9, 4: 16, 5: 25, 6: 36, 7: 49, 8: 64, 9: 81, 10: 100}\n"
     ]
    }
   ],
   "source": [
    "num=int(input(\"Enter a number\"))\n",
    "dict={}\n",
    "\n",
    "for i in range(1,num+1):\n",
    "    dict[i]=i*i\n",
    "    \n",
    "print(dict)"
   ]
  },
  {
   "cell_type": "markdown",
   "id": "9ddb3da3",
   "metadata": {},
   "source": [
    "### Question-4: Write a program which accepts a sequence of comma-separated numbers from console and generate a list and a tuple which contains every number. Suppose the following input is supplied to the program: 34,67,55,33,12,98 Then, the output should be: ['34', '67', '55', '33', '12', '98'] ('34', '67', '55', '33', '12', '98')"
   ]
  },
  {
   "cell_type": "code",
   "execution_count": 4,
   "id": "b74e2bdf",
   "metadata": {},
   "outputs": [
    {
     "name": "stdout",
     "output_type": "stream",
     "text": [
      "Enter a list of numbers1,4,6832,123,8,424\n",
      "['1', '4', '6832', '123', '8', '424']\n",
      "('1', '4', '6832', '123', '8', '424')\n"
     ]
    }
   ],
   "source": [
    "values=input(\"Enter a list of numbers\")\n",
    "l=values.split(',')\n",
    "t=tuple(l)\n",
    "print(l)\n",
    "print(t)"
   ]
  },
  {
   "cell_type": "markdown",
   "id": "541571ee",
   "metadata": {},
   "source": [
    "### Question-5: Define a class which has at least two methods: getString: to get a string from console input printString: to print the string in upper case. Also please include simple test function to test the class methods."
   ]
  },
  {
   "cell_type": "code",
   "execution_count": 5,
   "id": "8fe5565d",
   "metadata": {},
   "outputs": [
    {
     "name": "stdout",
     "output_type": "stream",
     "text": [
      "Enter a stringhello my name is kunal\n",
      "HELLO MY NAME IS KUNAL\n"
     ]
    }
   ],
   "source": [
    "class test():\n",
    "    def __init__(self):\n",
    "        self.str=\"\"\n",
    "    def getString(self):\n",
    "        self.str=input(\"Enter a string: \")\n",
    "    def printString(self):\n",
    "        print(self.str.upper())\n",
    "\n",
    "obj=test()\n",
    "obj.getString()\n",
    "obj.printString()\n",
    "    "
   ]
  },
  {
   "cell_type": "markdown",
   "id": "50e0856c",
   "metadata": {},
   "source": [
    "### Question-6: Write a program that calculates and prints the value according to the given formula: Q = Square root of [(2 * C * D)/H] Following are the fixed values of C and H: C is 50. H is 30. D is the variable whose values should be input to your program in a comma-separated sequence. Example Let us assume the following comma separated input sequence is given to the program: 100,150,180 The output of the program should be: 18,22,24"
   ]
  },
  {
   "cell_type": "code",
   "execution_count": 24,
   "id": "ba04200f",
   "metadata": {},
   "outputs": [
    {
     "name": "stdout",
     "output_type": "stream",
     "text": [
      "1,67,234,85\n",
      "2,15,28,17\n"
     ]
    }
   ],
   "source": [
    "import math\n",
    "c=50 \n",
    "h=30\n",
    "values=[]\n",
    "items=[x for x in input().split(',')]\n",
    "for d in items:\n",
    "    values.append(str(int(round(math.sqrt(2*c*float(d)/h)))))\n",
    "print(','.join(values))\n",
    "                  "
   ]
  },
  {
   "cell_type": "markdown",
   "id": "dfdaf7da",
   "metadata": {},
   "source": [
    "### Question-7: Write a program which takes 2 digits, X,Y as input and generates a 2- dimensional array. The element value in the i-th row and j-th column of the array should be i*j. Note: i=0,1.., X-1; j=0,1,¡Y-1. Example Suppose the following inputs are given to the program: 3,5 Then, the output of the program should be: [[0, 0, 0, 0, 0], [0, 1, 2, 3, 4], [0, 2, 4, 6, 8]]"
   ]
  },
  {
   "cell_type": "code",
   "execution_count": 36,
   "id": "99542596",
   "metadata": {},
   "outputs": [
    {
     "name": "stdout",
     "output_type": "stream",
     "text": [
      "3,5\n",
      "[[0, 0, 0, 0, 0], [0, 1, 2, 3, 4], [0, 2, 4, 6, 8]]\n"
     ]
    }
   ],
   "source": [
    "input_str=input()\n",
    "dimension=[int(x) for x in input_str.split(',')]\n",
    "x=dimension[1]\n",
    "y=dimension[0]\n",
    "ans=[[0 for row in range(x)]for col in range(y)]\n",
    "for i in range (y):\n",
    "    for j in range (x):\n",
    "        ans[i][j]=i*j\n",
    "print (ans)"
   ]
  },
  {
   "cell_type": "markdown",
   "id": "258cbc23",
   "metadata": {},
   "source": [
    "### Question-8: Write a program that accepts a comma separated sequence of words as input and prints the words in a comma-separated sequence after sorting them alphabetically. Suppose the following input is supplied to the program: without,hello,bag,world Then, the output should be: bag,hello,without,world"
   ]
  },
  {
   "cell_type": "code",
   "execution_count": 10,
   "id": "2267b71a",
   "metadata": {},
   "outputs": [
    {
     "name": "stdout",
     "output_type": "stream",
     "text": [
      "without,hello,bag,world\n",
      "bag,hello,without,world\n"
     ]
    }
   ],
   "source": [
    "all_words=[word for word in input().split(',')]\n",
    "all_words.sort()\n",
    "print(','.join(all_words))"
   ]
  },
  {
   "cell_type": "markdown",
   "id": "554e056e",
   "metadata": {},
   "source": [
    "### Question-9: Write a program that accepts sequence of lines as input and prints the lines after making all characters in the sentence capitalized. Suppose the following input is supplied to the program: Hello world Practice makes perfect Then, the output should be: HELLO WORLD PRACTICE MAKES PERFECT"
   ]
  },
  {
   "cell_type": "code",
   "execution_count": 12,
   "id": "46f30e92",
   "metadata": {},
   "outputs": [
    {
     "name": "stdout",
     "output_type": "stream",
     "text": [
      "hello word\n",
      "my name is kunal\n",
      "i am a data scientist\n",
      "\n",
      "HELLO WORD\n",
      "MY NAME IS KUNAL\n",
      "I AM A DATA SCIENTIST\n"
     ]
    }
   ],
   "source": [
    "lines=[]\n",
    "while True:\n",
    "    s=input()\n",
    "    if s:\n",
    "        lines.append(s.upper())\n",
    "    else:\n",
    "        break\n",
    "\n",
    "for sentence in lines:\n",
    "    print(sentence)"
   ]
  },
  {
   "cell_type": "markdown",
   "id": "c9c120a8",
   "metadata": {},
   "source": [
    "### Question-10: Write a program that accepts a sequence of whitespace separated words as input and prints the words after removing all duplicate words and sorting them alphanumerically. Suppose the following input is supplied to the program: hello world and practice makes perfect and hello world again Then, the output should be: again and hello makes perfect practice world"
   ]
  },
  {
   "cell_type": "code",
   "execution_count": 17,
   "id": "f0b6c7b3",
   "metadata": {},
   "outputs": [
    {
     "name": "stdout",
     "output_type": "stream",
     "text": [
      "hello world and practice makes perfect and hello world again \n",
      " again and hello makes perfect practice world\n"
     ]
    }
   ],
   "source": [
    "sentence=[word for word in input().split(' ')]\n",
    "print(\" \".join(sorted(list(set(sentence)))))"
   ]
  }
 ],
 "metadata": {
  "kernelspec": {
   "display_name": "Python 3",
   "language": "python",
   "name": "python3"
  },
  "language_info": {
   "codemirror_mode": {
    "name": "ipython",
    "version": 3
   },
   "file_extension": ".py",
   "mimetype": "text/x-python",
   "name": "python",
   "nbconvert_exporter": "python",
   "pygments_lexer": "ipython3",
   "version": "3.6.13"
  }
 },
 "nbformat": 4,
 "nbformat_minor": 5
}
