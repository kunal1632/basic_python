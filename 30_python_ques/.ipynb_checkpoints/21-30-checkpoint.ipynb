{
 "cells": [
  {
   "cell_type": "markdown",
   "id": "5a5089a3",
   "metadata": {},
   "source": [
    "### Question-21: A robot moves in a plane starting from the original point (0,0). The robot can move toward UP, DOWN, LEFT and RIGHT with a given steps. The trace of robot movement is shown as the following: UP 5 DOWN 3 LEFT 3 RIGHT 2 ¡ The numbers after the direction are steps. Please write a program to compute the distance from current position after a sequence of movement and original point. If the distance is a float, then just print the nearest integer. Example: If the following tuples are given as input to the program: UP 5 DOWN 3 LEFT 3 RIGHT 2 Then, the output of the program should be: 2"
   ]
  },
  {
   "cell_type": "code",
   "execution_count": 5,
   "id": "3aae1a0c",
   "metadata": {},
   "outputs": [
    {
     "name": "stdout",
     "output_type": "stream",
     "text": [
      "UP 5\n",
      "DOWN 7\n",
      "LEFT 10\n",
      "RIGHT 1\n",
      "UP 3\n",
      "\n",
      "9\n"
     ]
    }
   ],
   "source": [
    "import math\n",
    "pos=[0,0]\n",
    "while True:\n",
    "    s=input()\n",
    "    if not s:\n",
    "        break\n",
    "    movement=s.split(' ')\n",
    "    direction=movement[0]\n",
    "    steps=int(movement[1])\n",
    "    if direction==\"UP\":\n",
    "        pos[0]+=steps\n",
    "    elif direction==\"DOWN\":\n",
    "        pos[0]-=steps\n",
    "    elif direction==\"RIGHT\":\n",
    "        pos[1]+=steps\n",
    "    elif direction==\"LEFT\":\n",
    "        pos[1]-=steps\n",
    "    else:\n",
    "        pass\n",
    "\n",
    "print(int(round(math.sqrt(pos[1]**2+pos[0]**2))))"
   ]
  },
  {
   "cell_type": "markdown",
   "id": "5fd6eac3",
   "metadata": {},
   "source": [
    "### Question-22: Write a program to compute the frequency of the words from the input. The output should output after sorting the key alphanumerically. Suppose the following input is supplied to the program: New to Python or choosing between Python 2 and Python 3? Read Python 2 or Python 3. Then, the output should be: 2:2 3.:1 3?:1 New:1 Python:5 Read:1 and:1 between:1 choosing:1 or:2 to:1"
   ]
  },
  {
   "cell_type": "code",
   "execution_count": 13,
   "id": "b2ecd0c0",
   "metadata": {},
   "outputs": [
    {
     "name": "stdout",
     "output_type": "stream",
     "text": [
      "New to Python or choosing between Python 2 and Python 3? Read Python 2 or Python 3\n",
      "2:2\n",
      "3:1\n",
      "3?:1\n",
      "New:1\n",
      "Python:5\n",
      "Read:1\n",
      "and:1\n",
      "between:1\n",
      "choosing:1\n",
      "or:2\n",
      "to:1\n"
     ]
    }
   ],
   "source": [
    "ans_dict={}\n",
    "input_str=[x for x in input().split(' ')]\n",
    "for i in input_str:\n",
    "    ans_dict[i]=ans_dict.get(i,0)+1\n",
    "    \n",
    "freq=ans_dict.keys()\n",
    "freq=sorted(freq)\n",
    "\n",
    "for f in freq:\n",
    "    print(\"%s:%d\" % (f,ans_dict[f]))"
   ]
  },
  {
   "cell_type": "markdown",
   "id": "43792285",
   "metadata": {},
   "source": [
    "### Question-23: Write a method which can calculate square value of number"
   ]
  },
  {
   "cell_type": "code",
   "execution_count": 15,
   "id": "91ad3c7d",
   "metadata": {},
   "outputs": [
    {
     "name": "stdout",
     "output_type": "stream",
     "text": [
      "Enter a number5\n"
     ]
    },
    {
     "data": {
      "text/plain": [
       "25"
      ]
     },
     "execution_count": 15,
     "metadata": {},
     "output_type": "execute_result"
    }
   ],
   "source": [
    "def sqr(n):\n",
    "    return n**2\n",
    "\n",
    "num=int(input(\"Enter a number\"))\n",
    "sqr(num)"
   ]
  },
  {
   "cell_type": "markdown",
   "id": "d339834e",
   "metadata": {},
   "source": [
    "### Question-24: Python has many built-in functions, and if you do not know how to use it, you can read document online or find some books. But Python has a built-in document function for every built-in functions. Please write a program to print some Python built-in functions documents, such as abs(), int(), raw_input() And add document for your own function Hints: The built-in document method is doc"
   ]
  },
  {
   "cell_type": "code",
   "execution_count": 19,
   "id": "e2618823",
   "metadata": {},
   "outputs": [
    {
     "name": "stdout",
     "output_type": "stream",
     "text": [
      "Return the absolute value of the argument.\n",
      "int(x=0) -> integer\n",
      "int(x, base=10) -> integer\n",
      "\n",
      "Convert a number or string to an integer, or return 0 if no arguments\n",
      "are given.  If x is a number, return x.__int__().  For floating point\n",
      "numbers, this truncates towards zero.\n",
      "\n",
      "If x is not a number or if base is given, then x must be a string,\n",
      "bytes, or bytearray instance representing an integer literal in the\n",
      "given base.  The literal can be preceded by '+' or '-' and be surrounded\n",
      "by whitespace.  The base defaults to 10.  Valid bases are 0 and 2-36.\n",
      "Base 0 means to interpret the base from the string as an integer literal.\n",
      ">>> int('0b100', base=0)\n",
      "4\n",
      "Forward raw_input to frontends\n",
      "\n",
      "        Raises\n",
      "        ------\n",
      "        StdinNotImplentedError if active frontend doesn't support stdin.\n",
      "        \n",
      "4\n",
      "Return the square value of the input number.\n",
      "    The input number must be integer.\n",
      "    \n"
     ]
    }
   ],
   "source": [
    "print(abs.__doc__)\n",
    "print(int.__doc__)\n",
    "print(input.__doc__)\n",
    "def square(num):\n",
    "    '''Return the square value of the input number.\n",
    "    The input number must be integer.\n",
    "    '''\n",
    "    return num ** 2\n",
    "print(square(2))\n",
    "print(square.__doc__)"
   ]
  },
  {
   "cell_type": "markdown",
   "id": "fce891e1",
   "metadata": {},
   "source": [
    "### Question-25: Define a class, which have a class parameter and have a same instance parameter."
   ]
  },
  {
   "cell_type": "code",
   "execution_count": 23,
   "id": "af18db80",
   "metadata": {},
   "outputs": [
    {
     "name": "stdout",
     "output_type": "stream",
     "text": [
      "My name is Kunal\n"
     ]
    }
   ],
   "source": [
    "class person:\n",
    "    name=\"Person\"\n",
    "    \n",
    "    def __init__(self,name= None):\n",
    "        self.name = name\n",
    "    \n",
    "my_name=person(\"Kunal\")\n",
    "print(f\"My name is {my_name.name}\")"
   ]
  },
  {
   "cell_type": "markdown",
   "id": "db53687c",
   "metadata": {},
   "source": [
    "### Question-26: Define a function which can compute the sum of two numbers."
   ]
  },
  {
   "cell_type": "code",
   "execution_count": 24,
   "id": "4a5ef129",
   "metadata": {},
   "outputs": [
    {
     "name": "stdout",
     "output_type": "stream",
     "text": [
      "8\n"
     ]
    }
   ],
   "source": [
    "def two_sum(x,y):\n",
    "    return x+y\n",
    "\n",
    "print(two_sum(5,3))"
   ]
  },
  {
   "cell_type": "markdown",
   "id": "7ecdb304",
   "metadata": {},
   "source": [
    "### Question-27: Define a function that can convert a integer into a string and print it in console."
   ]
  },
  {
   "cell_type": "code",
   "execution_count": 29,
   "id": "824f1888",
   "metadata": {},
   "outputs": [
    {
     "name": "stdout",
     "output_type": "stream",
     "text": [
      "35\n",
      "<class 'str'>\n"
     ]
    }
   ],
   "source": [
    "def convert_int_str(s):\n",
    "    return(str(s))\n",
    "\n",
    "ans=convert_int_str(num)\n",
    "print(ans)\n",
    "print(type(ans))"
   ]
  },
  {
   "cell_type": "code",
   "execution_count": null,
   "id": "c97b6832",
   "metadata": {},
   "outputs": [],
   "source": []
  }
 ],
 "metadata": {
  "kernelspec": {
   "display_name": "Python 3",
   "language": "python",
   "name": "python3"
  },
  "language_info": {
   "codemirror_mode": {
    "name": "ipython",
    "version": 3
   },
   "file_extension": ".py",
   "mimetype": "text/x-python",
   "name": "python",
   "nbconvert_exporter": "python",
   "pygments_lexer": "ipython3",
   "version": "3.6.13"
  }
 },
 "nbformat": 4,
 "nbformat_minor": 5
}
