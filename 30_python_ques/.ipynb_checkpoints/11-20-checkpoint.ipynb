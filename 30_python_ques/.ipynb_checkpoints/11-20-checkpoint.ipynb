{
 "cells": [
  {
   "cell_type": "markdown",
   "id": "376c1d66",
   "metadata": {},
   "source": [
    "### Question-11: Write a program which accepts a sequence of comma separated 4 digit binary numbers as its input and then check whether they are divisible by 5 or not. The numbers that are divisible by 5 are to be printed in a comma separated sequence. Example: 0100,0011,1010,1001 Then the output should be: 1010 Notes: "
   ]
  },
  {
   "cell_type": "code",
   "execution_count": 10,
   "id": "4569df19",
   "metadata": {},
   "outputs": [
    {
     "name": "stdout",
     "output_type": "stream",
     "text": [
      "0100,0011,1010,1001\n",
      "1010\n"
     ]
    }
   ],
   "source": [
    "num=[x for x in input().split(',')]\n",
    "ans=[]\n",
    "for number in num:\n",
    "    temp=int(number,2)\n",
    "    if temp%5==0:\n",
    "        ans.append(number)\n",
    "        \n",
    "print(','.join(ans))"
   ]
  },
  {
   "cell_type": "markdown",
   "id": "8f3ea458",
   "metadata": {},
   "source": [
    "### Question-12: Write a program, which will find all such numbers between 1000 and 3000 (both included) such that each digit of the number is an even number. The numbers obtained should be printed in a comma-separated sequence on a single line."
   ]
  },
  {
   "cell_type": "code",
   "execution_count": 23,
   "id": "1ecd1ac6",
   "metadata": {},
   "outputs": [
    {
     "name": "stdout",
     "output_type": "stream",
     "text": [
      "2000,2002,2004,2006,2008,2020,2022,2024,2026,2028,2040,2042,2044,2046,2048,2060,2062,2064,2066,2068,2080,2082,2084,2086,2088,2200,2202,2204,2206,2208,2220,2222,2224,2226,2228,2240,2242,2244,2246,2248,2260,2262,2264,2266,2268,2280,2282,2284,2286,2288,2400,2402,2404,2406,2408,2420,2422,2424,2426,2428,2440,2442,2444,2446,2448,2460,2462,2464,2466,2468,2480,2482,2484,2486,2488,2600,2602,2604,2606,2608,2620,2622,2624,2626,2628,2640,2642,2644,2646,2648,2660,2662,2664,2666,2668,2680,2682,2684,2686,2688,2800,2802,2804,2806,2808,2820,2822,2824,2826,2828,2840,2842,2844,2846,2848,2860,2862,2864,2866,2868,2880,2882,2884,2886,2888\n"
     ]
    }
   ],
   "source": [
    "ans=[]\n",
    "for i in range(1000,3001):\n",
    "    count=0\n",
    "    digits=[int(x) for x in str(i)]\n",
    "    for digit in digits:\n",
    "        if digit%2!=0:\n",
    "            break\n",
    "        count+=1\n",
    "    if count==4:\n",
    "        ans.append(str(i))\n",
    "    \n",
    "print(','.join(ans))"
   ]
  },
  {
   "cell_type": "markdown",
   "id": "5587fce8",
   "metadata": {},
   "source": [
    "### Question-13: Write a program that accepts a sentence and calculate the number of letters and digits. Suppose the following input is supplied to the program: hello world! 123 Then, the output should be: LETTERS 10 DIGITS 3"
   ]
  },
  {
   "cell_type": "code",
   "execution_count": 29,
   "id": "80625691",
   "metadata": {},
   "outputs": [
    {
     "name": "stdout",
     "output_type": "stream",
     "text": [
      "Enter a sentence: hello world! 123\n",
      "LETTER 10\n",
      "DIGIT 3\n"
     ]
    }
   ],
   "source": [
    "val={'letters':0,'digit':0}\n",
    "str=input(\"Enter a sentence: \")\n",
    "for word in str:\n",
    "    if word.isalpha():\n",
    "        val['letters']+=1\n",
    "    elif word.isnumeric():\n",
    "        val['digit']+=1\n",
    "    \n",
    "print(\"LETTER\", val[\"letters\"])\n",
    "print(\"DIGIT\", val[\"digit\"])"
   ]
  },
  {
   "cell_type": "markdown",
   "id": "7b2f7b74",
   "metadata": {},
   "source": [
    "### Question-14: Write a program that accepts a sentence and calculate the number of upper case letters and lower case letters. Suppose the following input is supplied to the program: Hello world! Then, the output should be: UPPER CASE 1 LOWER CASE 9"
   ]
  },
  {
   "cell_type": "code",
   "execution_count": 8,
   "id": "62bd68ae",
   "metadata": {},
   "outputs": [
    {
     "name": "stdout",
     "output_type": "stream",
     "text": [
      "Enter a sentence: Hello world!\n",
      "UPPER CASE 1\n",
      "LOWER CASE 9\n"
     ]
    }
   ],
   "source": [
    "ans={'upper':0,'lower':0}\n",
    "str1=input(\"Enter a sentence: \")\n",
    "for word in str:\n",
    "    if word.isupper():\n",
    "        ans['upper']+=1\n",
    "    elif word.islower():\n",
    "        ans['lower']+=1\n",
    "\n",
    "print(\"UPPER CASE\",ans[\"upper\"])\n",
    "print(\"LOWER CASE\",ans[\"lower\"])"
   ]
  },
  {
   "cell_type": "markdown",
   "id": "87483804",
   "metadata": {},
   "source": [
    "### Question-15: Write a program that computes the value of a+aa+aaa+aaaa with a given digit as the value of a. Suppose the following input is supplied to the program: 9 Then, the output should be: 11106"
   ]
  },
  {
   "cell_type": "code",
   "execution_count": 9,
   "id": "a7687f81",
   "metadata": {},
   "outputs": [
    {
     "name": "stdout",
     "output_type": "stream",
     "text": [
      "Enter a number: 9\n",
      "11106\n"
     ]
    }
   ],
   "source": [
    "a=int(input(\"Enter a number: \"))\n",
    "print(a*1+a*11+a*111+a*1111)"
   ]
  },
  {
   "cell_type": "markdown",
   "id": "b79fa3dc",
   "metadata": {},
   "source": [
    "### Question-16: Use a list comprehension to square each odd number in a list. The list is input by a sequence of comma-separated numbers. Suppose the following input is supplied to the program: 1,2,3,4,5,6,7,8,9 Then, the output should be: 1,3,5,7,9"
   ]
  },
  {
   "cell_type": "code",
   "execution_count": 1,
   "id": "bc96082b",
   "metadata": {},
   "outputs": [
    {
     "name": "stdout",
     "output_type": "stream",
     "text": [
      "1,2,3,4,5,6,7,8,9 \n",
      "1,9,25,49,81\n"
     ]
    }
   ],
   "source": [
    "l1=[int(x) for x in input().split(',')]\n",
    "ans=[str(x**2) for x in l1 if x%2!=0 ]\n",
    "print(','.join(ans))"
   ]
  },
  {
   "cell_type": "markdown",
   "id": "ce7f5059",
   "metadata": {},
   "source": [
    "### Question: Write a program that computes the net amount of a bank account based a transaction log from console input. The transaction log format is shown as following: D 100 W 200\n",
    "### D means deposit while W means withdrawal. Suppose the following input is suppliedto the program: D 300 D 300 W 200 D 100 Then, the output should be: 500"
   ]
  },
  {
   "cell_type": "code",
   "execution_count": 9,
   "id": "d8c8975e",
   "metadata": {},
   "outputs": [
    {
     "name": "stdout",
     "output_type": "stream",
     "text": [
      "D 300 D 300 W 200 D 100\n",
      "300\n",
      "300\n",
      "200\n",
      "100\n",
      "3300\n"
     ]
    }
   ],
   "source": [
    "l=[x for x in input().split(' ')]\n",
    "final_amount=0\n",
    "for i,word in enumerate(l):\n",
    "    if word==\"D\":\n",
    "        final_amount+=final_amount+int(l[i+1])\n",
    "        print('d',int(l[i+1]))\n",
    "    elif word=='W':\n",
    "        final_amount+=final_amount-int(l[i+1])\n",
    "        print('w',int(l[i+1]))\n",
    "    else:\n",
    "        continue\n",
    "print(final_amount)"
   ]
  }
 ],
 "metadata": {
  "kernelspec": {
   "display_name": "Python 3",
   "language": "python",
   "name": "python3"
  },
  "language_info": {
   "codemirror_mode": {
    "name": "ipython",
    "version": 3
   },
   "file_extension": ".py",
   "mimetype": "text/x-python",
   "name": "python",
   "nbconvert_exporter": "python",
   "pygments_lexer": "ipython3",
   "version": "3.6.13"
  }
 },
 "nbformat": 4,
 "nbformat_minor": 5
}
