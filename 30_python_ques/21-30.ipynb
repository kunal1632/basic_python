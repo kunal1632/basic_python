{
 "cells": [
  {
   "cell_type": "markdown",
   "id": "5a5089a3",
   "metadata": {},
   "source": [
    "### Question-21: A robot moves in a plane starting from the original point (0,0). The robot can move toward UP, DOWN, LEFT and RIGHT with a given steps. The trace of robot movement is shown as the following: UP 5 DOWN 3 LEFT 3 RIGHT 2 ¡ The numbers after the direction are steps. Please write a program to compute the distance from current position after a sequence of movement and original point. If the distance is a float, then just print the nearest integer. Example: If the following tuples are given as input to the program: UP 5 DOWN 3 LEFT 3 RIGHT 2 Then, the output of the program should be: 2"
   ]
  },
  {
   "cell_type": "code",
   "execution_count": 5,
   "id": "3aae1a0c",
   "metadata": {},
   "outputs": [
    {
     "name": "stdout",
     "output_type": "stream",
     "text": [
      "UP 5\n",
      "DOWN 7\n",
      "LEFT 10\n",
      "RIGHT 1\n",
      "UP 3\n",
      "\n",
      "9\n"
     ]
    }
   ],
   "source": [
    "import math\n",
    "pos=[0,0]\n",
    "while True:\n",
    "    s=input()\n",
    "    if not s:\n",
    "        break\n",
    "    movement=s.split(' ')\n",
    "    direction=movement[0]\n",
    "    steps=int(movement[1])\n",
    "    if direction==\"UP\":\n",
    "        pos[0]+=steps\n",
    "    elif direction==\"DOWN\":\n",
    "        pos[0]-=steps\n",
    "    elif direction==\"RIGHT\":\n",
    "        pos[1]+=steps\n",
    "    elif direction==\"LEFT\":\n",
    "        pos[1]-=steps\n",
    "    else:\n",
    "        pass\n",
    "\n",
    "print(int(round(math.sqrt(pos[1]**2+pos[0]**2))))"
   ]
  },
  {
   "cell_type": "markdown",
   "id": "5fd6eac3",
   "metadata": {},
   "source": [
    "### Question-22: Write a program to compute the frequency of the words from the input. The output should output after sorting the key alphanumerically. Suppose the following input is supplied to the program: New to Python or choosing between Python 2 and Python 3? Read Python 2 or Python 3. Then, the output should be: 2:2 3.:1 3?:1 New:1 Python:5 Read:1 and:1 between:1 choosing:1 or:2 to:1"
   ]
  },
  {
   "cell_type": "code",
   "execution_count": 13,
   "id": "b2ecd0c0",
   "metadata": {},
   "outputs": [
    {
     "name": "stdout",
     "output_type": "stream",
     "text": [
      "New to Python or choosing between Python 2 and Python 3? Read Python 2 or Python 3\n",
      "2:2\n",
      "3:1\n",
      "3?:1\n",
      "New:1\n",
      "Python:5\n",
      "Read:1\n",
      "and:1\n",
      "between:1\n",
      "choosing:1\n",
      "or:2\n",
      "to:1\n"
     ]
    }
   ],
   "source": [
    "ans_dict={}\n",
    "input_str=[x for x in input().split(' ')]\n",
    "for i in input_str:\n",
    "    ans_dict[i]=ans_dict.get(i,0)+1\n",
    "    \n",
    "freq=ans_dict.keys()\n",
    "freq=sorted(freq)\n",
    "\n",
    "for f in freq:\n",
    "    print(\"%s:%d\" % (f,ans_dict[f]))"
   ]
  },
  {
   "cell_type": "markdown",
   "id": "43792285",
   "metadata": {},
   "source": [
    "### Question-23: Write a program which can map() and filter() to make a list whose elements are square of even number in [1,2,3,4,5,6,7,8,9,10]."
   ]
  },
  {
   "cell_type": "code",
   "execution_count": 7,
   "id": "2cf59fbe",
   "metadata": {},
   "outputs": [
    {
     "name": "stdout",
     "output_type": "stream",
     "text": [
      "4\n",
      "16\n",
      "36\n",
      "64\n",
      "100\n"
     ]
    }
   ],
   "source": [
    "l1=[1,2,3,4,5,6,7,8,9,10]\n",
    "even_sq=map(lambda x: x**2,filter(lambda x: x%2==0,l1))\n",
    "for i in even_sq:\n",
    "    print(i)"
   ]
  },
  {
   "cell_type": "markdown",
   "id": "55fedc0f",
   "metadata": {},
   "source": [
    "### Question-24: Define a class named Indian which has a static method called printNationality."
   ]
  },
  {
   "cell_type": "code",
   "execution_count": 10,
   "id": "adbd960a",
   "metadata": {},
   "outputs": [
    {
     "name": "stdout",
     "output_type": "stream",
     "text": [
      "Indian\n",
      "Indian\n"
     ]
    }
   ],
   "source": [
    "class Indian:\n",
    "    @staticmethod\n",
    "    def printNationality():\n",
    "        print(\"Indian\")\n",
    "        \n",
    "nationality=Indian()\n",
    "nationality.printNationality()\n",
    "Indian.printNationality()"
   ]
  },
  {
   "cell_type": "markdown",
   "id": "7a36926b",
   "metadata": {},
   "source": [
    "### Question-25:Define a class named Shape and its subclass Square. The Square class has an init function which takes a length as argument. Both classes have a area function which can print the area of the shape where Shape's area is 0 by default."
   ]
  },
  {
   "cell_type": "code",
   "execution_count": 15,
   "id": "7721c0b1",
   "metadata": {},
   "outputs": [
    {
     "name": "stdout",
     "output_type": "stream",
     "text": [
      "25\n"
     ]
    }
   ],
   "source": [
    "class Shape:\n",
    "    def __init__(self):\n",
    "        pass\n",
    "    def area(self):\n",
    "        return 0\n",
    "class square(Shape):\n",
    "    def __init__(self,l):\n",
    "        Shape.__init__(self)\n",
    "        self.length=l\n",
    "    def area(self):\n",
    "        return self.length*self.length\n",
    "aSquare=square(5)\n",
    "print(aSquare.area())"
   ]
  },
  {
   "cell_type": "markdown",
   "id": "61f65075",
   "metadata": {},
   "source": [
    "### Question-26: Write a function to compute 5/0 and use try/except to catch the exceptions."
   ]
  },
  {
   "cell_type": "code",
   "execution_count": 3,
   "id": "de617e3b",
   "metadata": {},
   "outputs": [
    {
     "name": "stdout",
     "output_type": "stream",
     "text": [
      "Cant divide by zero\n"
     ]
    }
   ],
   "source": [
    "def throws():\n",
    "    return 5/0\n",
    "\n",
    "try:\n",
    "    throws()\n",
    "except ZeroDivisionError:\n",
    "    print(\"Cant divide by zero\")"
   ]
  },
  {
   "cell_type": "markdown",
   "id": "d0523fc4",
   "metadata": {},
   "source": [
    "### Question-27: Write a program to compute: f(n)=f(n-1)+100 when n>0 and f(0)=1 with a given n input by console (n>0)."
   ]
  },
  {
   "cell_type": "code",
   "execution_count": 6,
   "id": "a58ab7a3",
   "metadata": {},
   "outputs": [
    {
     "name": "stdout",
     "output_type": "stream",
     "text": [
      "Enter a number5\n"
     ]
    },
    {
     "data": {
      "text/plain": [
       "501"
      ]
     },
     "execution_count": 6,
     "metadata": {},
     "output_type": "execute_result"
    }
   ],
   "source": [
    "def f(n):\n",
    "    if n==0:\n",
    "        return 1\n",
    "    else:\n",
    "        return f(n-1)+100\n",
    "\n",
    "num=int(input(\"Enter a number\"))\n",
    "f(num)"
   ]
  },
  {
   "cell_type": "markdown",
   "id": "61086319",
   "metadata": {},
   "source": [
    "### Question-28:The Fibonacci Sequence is computed based on the following formula: f(n)=0 if n=0 f(n)=1 if n=1 f(n)=f(n-1)+f(n-2) if n>1 Please write a program to compute the value of f(n) with a given n input by console."
   ]
  },
  {
   "cell_type": "code",
   "execution_count": 9,
   "id": "e613b6a1",
   "metadata": {},
   "outputs": [
    {
     "name": "stdout",
     "output_type": "stream",
     "text": [
      "Enter a number7\n"
     ]
    },
    {
     "data": {
      "text/plain": [
       "13"
      ]
     },
     "execution_count": 9,
     "metadata": {},
     "output_type": "execute_result"
    }
   ],
   "source": [
    "def fibo(n):\n",
    "    if n==0:\n",
    "        return 0\n",
    "    elif n==1:\n",
    "        return 1\n",
    "    else:\n",
    "        return fibo(n-1)+fibo(n-2)\n",
    "num=int(input(\"Enter a number\"))\n",
    "fibo(num)"
   ]
  },
  {
   "cell_type": "markdown",
   "id": "3ec5c639",
   "metadata": {},
   "source": [
    "### Question-29: Please write a program using list comprehension to print the Fibonacci Sequence in comma separated form with a given n input by console."
   ]
  },
  {
   "cell_type": "code",
   "execution_count": 12,
   "id": "4cfe2010",
   "metadata": {},
   "outputs": [
    {
     "name": "stdout",
     "output_type": "stream",
     "text": [
      "Enter a number 10\n",
      "0,1,1,2,3,5,8,13,21,34,55\n"
     ]
    }
   ],
   "source": [
    "def fibo(n):\n",
    "    if n==0:\n",
    "        return 0\n",
    "    elif n==1:\n",
    "        return 1\n",
    "    else:\n",
    "        return fibo(n-1)+fibo(n-2)\n",
    "num=int(input(\"Enter a number \"))\n",
    "values=[str(fibo(x)) for x in range(0,num+1)]\n",
    "print(\",\".join(values))"
   ]
  },
  {
   "cell_type": "markdown",
   "id": "104b0898",
   "metadata": {},
   "source": [
    "### Question-30: Please write a binary search function which searches an item in a sorted list. The function should return the index of element to be searched in the list."
   ]
  },
  {
   "cell_type": "code",
   "execution_count": 166,
   "id": "536de100",
   "metadata": {},
   "outputs": [
    {
     "name": "stdout",
     "output_type": "stream",
     "text": [
      "1\n",
      "5\n"
     ]
    }
   ],
   "source": [
    "def binary_search(l,key):\n",
    "    s=0\n",
    "    e=len(l)-1\n",
    "    \n",
    "    while s<e:\n",
    "        mid=int((e+s)/2)\n",
    "        if l[mid]==key:\n",
    "            return mid\n",
    "        elif l[mid]>key:\n",
    "            e=mid-1\n",
    "        else:\n",
    "            s=mid\n",
    "li=[2,5,7,9,11,17,222]\n",
    "print(binary_search(li,5))\n",
    "print(binary_search(li,17))"
   ]
  }
 ],
 "metadata": {
  "kernelspec": {
   "display_name": "Python 3",
   "language": "python",
   "name": "python3"
  },
  "language_info": {
   "codemirror_mode": {
    "name": "ipython",
    "version": 3
   },
   "file_extension": ".py",
   "mimetype": "text/x-python",
   "name": "python",
   "nbconvert_exporter": "python",
   "pygments_lexer": "ipython3",
   "version": "3.6.13"
  }
 },
 "nbformat": 4,
 "nbformat_minor": 5
}
