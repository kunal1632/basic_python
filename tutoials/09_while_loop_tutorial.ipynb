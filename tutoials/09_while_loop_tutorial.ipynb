{
 "cells": [
  {
   "cell_type": "markdown",
   "metadata": {},
   "source": [
    "# Need of a while loop"
   ]
  },
  {
   "cell_type": "markdown",
   "metadata": {},
   "source": [
    "# writing while loop"
   ]
  },
  {
   "cell_type": "code",
   "execution_count": 3,
   "metadata": {},
   "outputs": [
    {
     "name": "stdout",
     "output_type": "stream",
     "text": [
      "30\n",
      "45\n",
      "60\n",
      "75\n",
      "90\n",
      "105\n",
      "120\n",
      "135\n",
      "150\n",
      "165\n",
      "180\n",
      "195\n",
      "210\n"
     ]
    }
   ],
   "source": [
    "\n",
    "#Take a number 15 in a variable - call it MyNum\n",
    "#use while loop to and print the number till the number exceeds 200, \n",
    "#increase value by 15 in every iteration\n",
    "MyNum=15\n",
    "while MyNum<200:\n",
    "    MyNum=MyNum+15\n",
    "    print(MyNum)\n"
   ]
  },
  {
   "cell_type": "code",
   "execution_count": 5,
   "metadata": {},
   "outputs": [
    {
     "name": "stdout",
     "output_type": "stream",
     "text": [
      "2\n",
      "42\n",
      "132\n",
      "272\n",
      "462\n",
      "702\n"
     ]
    }
   ],
   "source": [
    "#take a two numbers x = 1 and y = 2, multiply these two numbers using while loop and print the result\n",
    "#keep increasing x and y both by 5 in every iteration\n",
    "#stop the loop if the multiplication result is more than 500(this should go in while as condition)\n",
    "\n",
    "x=1\n",
    "y=2\n",
    "mul=1\n",
    "while mul<500:\n",
    "    mul=x*y\n",
    "    x=x+5\n",
    "    y=y+5\n",
    "    print(mul)"
   ]
  },
  {
   "cell_type": "markdown",
   "metadata": {},
   "source": [
    "# Use of continue and break statements with loops"
   ]
  },
  {
   "cell_type": "code",
   "execution_count": 7,
   "metadata": {},
   "outputs": [
    {
     "name": "stdout",
     "output_type": "stream",
     "text": [
      "30\n",
      "45\n",
      "60\n",
      "75\n",
      "90\n",
      "105\n",
      "120\n"
     ]
    }
   ],
   "source": [
    "#Take the first while loop in question 1 and Break the loop if item value is 120(use break command)\n",
    "MyNum=15\n",
    "while MyNum<200:\n",
    "    MyNum=MyNum+15\n",
    "    print(MyNum)\n",
    "    if MyNum==120:\n",
    "        break\n"
   ]
  },
  {
   "cell_type": "code",
   "execution_count": 12,
   "metadata": {},
   "outputs": [
    {
     "name": "stdout",
     "output_type": "stream",
     "text": [
      "pizza\n"
     ]
    }
   ],
   "source": [
    "#create a list of elements - \"pizza\",\"burger\",\"chips\",\"pepsi\",\"mayo\"\n",
    "#Print all elements one by one using a for loop with below condition\n",
    "\n",
    "#first task - #use \"break\" to exit loop if there is \"u\" in the item name\n",
    "l=[\"pizza\",\"burger\",\"chips\",\"pepsi\",\"mayo\"]\n",
    "for i in l:\n",
    "    if \"u\" in i:\n",
    "        break\n",
    "    else:\n",
    "        print(i)\n"
   ]
  },
  {
   "cell_type": "code",
   "execution_count": 13,
   "metadata": {},
   "outputs": [
    {
     "name": "stdout",
     "output_type": "stream",
     "text": [
      "pizza\n",
      "burger\n",
      "pepsi\n",
      "mayo\n"
     ]
    }
   ],
   "source": [
    "# second task - use \"continue\" to not print the food if food is \"chips\"(print rest all elements)\n",
    "l=[\"pizza\",\"burger\",\"chips\",\"pepsi\",\"mayo\"]\n",
    "for i in l:\n",
    "    if \"chips\" in i:\n",
    "        continue\n",
    "    else:\n",
    "        print(i)\n"
   ]
  },
  {
   "cell_type": "code",
   "execution_count": null,
   "metadata": {},
   "outputs": [],
   "source": []
  }
 ],
 "metadata": {
  "kernelspec": {
   "display_name": "Python 3",
   "language": "python",
   "name": "python3"
  },
  "language_info": {
   "codemirror_mode": {
    "name": "ipython",
    "version": 3
   },
   "file_extension": ".py",
   "mimetype": "text/x-python",
   "name": "python",
   "nbconvert_exporter": "python",
   "pygments_lexer": "ipython3",
   "version": "3.6.13"
  }
 },
 "nbformat": 4,
 "nbformat_minor": 4
}
