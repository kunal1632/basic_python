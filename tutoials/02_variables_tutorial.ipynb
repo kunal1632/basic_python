{
 "cells": [
  {
   "cell_type": "code",
   "execution_count": 7,
   "metadata": {},
   "outputs": [],
   "source": [
    "#create a variable of type int having positive(78), negative(-9) and big value(3424211213132131)\n",
    "pos_val=78\n",
    "neg_val=-9\n",
    "big_val=3424211213132131"
   ]
  },
  {
   "cell_type": "code",
   "execution_count": 11,
   "metadata": {},
   "outputs": [
    {
     "name": "stdout",
     "output_type": "stream",
     "text": [
      "<class 'int'>\n",
      "<class 'int'>\n",
      "<class 'int'>\n"
     ]
    }
   ],
   "source": [
    "#Check type of above created integers one by one\n",
    "print(type(pos_val))\n",
    "print(type(neg_val))\n",
    "print(type(big_val))"
   ]
  },
  {
   "cell_type": "code",
   "execution_count": 13,
   "metadata": {},
   "outputs": [
    {
     "name": "stdout",
     "output_type": "stream",
     "text": [
      "<class 'float'>\n"
     ]
    }
   ],
   "source": [
    "#Create a floating number(7.3) variable and assert its float type\n",
    "flo_val=7.3\n",
    "print(type(flo_val))\n"
   ]
  },
  {
   "cell_type": "code",
   "execution_count": 20,
   "metadata": {},
   "outputs": [
    {
     "name": "stdout",
     "output_type": "stream",
     "text": [
      "7.2\n",
      "4.8\n",
      "7.199999999999999\n",
      "5.0\n",
      "2.220446049250313e-16\n"
     ]
    }
   ],
   "source": [
    "#Create one integer \"myint\"(6) and one floating \"myfloat\"(1.2) variable and test aithmetic operators like +,-,*,/,%,\n",
    "#print all outputs\n",
    "myint=6\n",
    "myfloat=1.2\n",
    "print(myint+myfloat)\n",
    "print(myint-myfloat)\n",
    "print(myint*myfloat)\n",
    "print(myint/myfloat)\n",
    "print(myint%myfloat)"
   ]
  },
  {
   "cell_type": "code",
   "execution_count": 21,
   "metadata": {},
   "outputs": [
    {
     "name": "stdout",
     "output_type": "stream",
     "text": [
      "<class 'bool'>\n"
     ]
    }
   ],
   "source": [
    "#create a variable \"mybooleanvar\" of type boolean(Having value \"True\") and assert its type\n",
    "mybooleanvar=True\n",
    "print(type(mybooleanvar))"
   ]
  },
  {
   "cell_type": "code",
   "execution_count": 23,
   "metadata": {},
   "outputs": [
    {
     "name": "stdout",
     "output_type": "stream",
     "text": [
      "<class 'complex'>\n"
     ]
    }
   ],
   "source": [
    "#create a variable \"mycomplexnvar\" of type boolean(Having value \"3+4j\") and assert its type\n",
    "mycomplexnvar=3+4j\n",
    "print(type(mycomplexnvar))"
   ]
  },
  {
   "cell_type": "code",
   "execution_count": null,
   "metadata": {},
   "outputs": [],
   "source": []
  }
 ],
 "metadata": {
  "kernelspec": {
   "display_name": "Python 3",
   "language": "python",
   "name": "python3"
  },
  "language_info": {
   "codemirror_mode": {
    "name": "ipython",
    "version": 3
   },
   "file_extension": ".py",
   "mimetype": "text/x-python",
   "name": "python",
   "nbconvert_exporter": "python",
   "pygments_lexer": "ipython3",
   "version": "3.6.13"
  }
 },
 "nbformat": 4,
 "nbformat_minor": 4
}
