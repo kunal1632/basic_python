{
 "cells": [
  {
   "cell_type": "markdown",
   "metadata": {},
   "source": [
    "# Need of Control Statement?"
   ]
  },
  {
   "cell_type": "markdown",
   "metadata": {},
   "source": [
    "# What is if statement"
   ]
  },
  {
   "cell_type": "code",
   "execution_count": 1,
   "metadata": {},
   "outputs": [
    {
     "name": "stdout",
     "output_type": "stream",
     "text": [
      "The number is greater then 50\n"
     ]
    }
   ],
   "source": [
    "#choose a number of your choice and write a if statement to print if number is more than 50\n",
    "num=55\n",
    "if num>50:\n",
    "    print(\"The number is greater then 50\")\n",
    "else:\n",
    "    print(\"The number is less then 50\")"
   ]
  },
  {
   "cell_type": "markdown",
   "metadata": {},
   "source": [
    "# If else example"
   ]
  },
  {
   "cell_type": "code",
   "execution_count": 2,
   "metadata": {},
   "outputs": [
    {
     "name": "stdout",
     "output_type": "stream",
     "text": [
      "The number is less then 50\n"
     ]
    }
   ],
   "source": [
    "#Amend the above statement with a else condition also which tells if the number is not more than 50 - check with other input number as well\n",
    "num=35\n",
    "if num>50:\n",
    "    print(\"The number is greater then 50\")\n",
    "else:\n",
    "    print(\"The number is less then 50\")"
   ]
  },
  {
   "cell_type": "markdown",
   "metadata": {},
   "source": [
    "# Note the \":\" and indentation above - very very important"
   ]
  },
  {
   "cell_type": "markdown",
   "metadata": {},
   "source": [
    "# Nested If else statement"
   ]
  },
  {
   "cell_type": "code",
   "execution_count": 7,
   "metadata": {},
   "outputs": [
    {
     "name": "stdout",
     "output_type": "stream",
     "text": [
      "The number is between 20 t0 40\n"
     ]
    }
   ],
   "source": [
    "#declare a positive number of your choice less than 50 \n",
    "#create a nested if else to print if the number is bwtween \"1 to 20\" or \"20 to 40\" or \"more than 40\"\n",
    "num=35\n",
    "if num<40:\n",
    "    if num<20:\n",
    "        print(\"The number is between 1 to 20\")\n",
    "    else:\n",
    "        print(\"The number is between 20 t0 40\")\n",
    "else:\n",
    "    print(\"The number is more then 40\")\n"
   ]
  },
  {
   "cell_type": "markdown",
   "metadata": {},
   "source": [
    "# test your code with different numbers - note the use of brackets in solution"
   ]
  },
  {
   "cell_type": "code",
   "execution_count": 8,
   "metadata": {},
   "outputs": [
    {
     "name": "stdout",
     "output_type": "stream",
     "text": [
      "The number is more then 40\n"
     ]
    }
   ],
   "source": [
    "num=45\n",
    "if num<40:\n",
    "    if num<20:\n",
    "        print(\"The number is between 1 to 20\")\n",
    "    else:\n",
    "        print(\"The number is between 20 t0 40\")\n",
    "else:\n",
    "    print(\"The number is more then 40\")"
   ]
  },
  {
   "cell_type": "code",
   "execution_count": null,
   "metadata": {},
   "outputs": [],
   "source": []
  }
 ],
 "metadata": {
  "kernelspec": {
   "display_name": "Python 3",
   "language": "python",
   "name": "python3"
  },
  "language_info": {
   "codemirror_mode": {
    "name": "ipython",
    "version": 3
   },
   "file_extension": ".py",
   "mimetype": "text/x-python",
   "name": "python",
   "nbconvert_exporter": "python",
   "pygments_lexer": "ipython3",
   "version": "3.6.13"
  }
 },
 "nbformat": 4,
 "nbformat_minor": 4
}
