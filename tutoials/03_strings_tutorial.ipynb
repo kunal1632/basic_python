{
 "cells": [
  {
   "cell_type": "code",
   "execution_count": 31,
   "metadata": {},
   "outputs": [
    {
     "name": "stdout",
     "output_type": "stream",
     "text": [
      "Kunal\n"
     ]
    }
   ],
   "source": [
    "#create a string variable (myname) having value as name(Aman)\n",
    "myname=\"Kunal\"\n",
    "print(myname)"
   ]
  },
  {
   "cell_type": "code",
   "execution_count": 32,
   "metadata": {},
   "outputs": [
    {
     "name": "stdout",
     "output_type": "stream",
     "text": [
      "u\n"
     ]
    }
   ],
   "source": [
    "#print the second letter of your name(Aman)\n",
    "print(myname[1])"
   ]
  },
  {
   "cell_type": "code",
   "execution_count": 33,
   "metadata": {},
   "outputs": [
    {
     "name": "stdout",
     "output_type": "stream",
     "text": [
      "a\n"
     ]
    }
   ],
   "source": [
    "#print the second letter from the end of your name(Aman)\n",
    "print(myname[-2])"
   ]
  },
  {
   "cell_type": "code",
   "execution_count": 34,
   "metadata": {},
   "outputs": [
    {
     "name": "stdout",
     "output_type": "stream",
     "text": [
      "Ku\n"
     ]
    }
   ],
   "source": [
    "#print character from starting till 3rd position(excluding third)\n",
    "print(myname[slice(0,2)])"
   ]
  },
  {
   "cell_type": "code",
   "execution_count": 35,
   "metadata": {},
   "outputs": [
    {
     "name": "stdout",
     "output_type": "stream",
     "text": [
      "Kun\n"
     ]
    }
   ],
   "source": [
    "#print character from starting till 3rd position(including third)\n",
    "print(myname[slice(0,3)])"
   ]
  },
  {
   "cell_type": "code",
   "execution_count": 36,
   "metadata": {},
   "outputs": [
    {
     "name": "stdout",
     "output_type": "stream",
     "text": [
      "un\n"
     ]
    }
   ],
   "source": [
    "#print character from 2nd letter from 4th letter(excluding 4th)\n",
    "print(myname[slice(1,3)])"
   ]
  },
  {
   "cell_type": "code",
   "execution_count": 37,
   "metadata": {},
   "outputs": [
    {
     "name": "stdout",
     "output_type": "stream",
     "text": [
      "una\n"
     ]
    }
   ],
   "source": [
    "#print character from 2nd letter from 4th letter(including 4th)\n",
    "s1=myname[slice(1,4)]\n",
    "print(s1)"
   ]
  },
  {
   "cell_type": "code",
   "execution_count": 38,
   "metadata": {},
   "outputs": [
    {
     "data": {
      "text/plain": [
       "True"
      ]
     },
     "execution_count": 38,
     "metadata": {},
     "output_type": "execute_result"
    }
   ],
   "source": [
    "#Use comparison operator to check if above created substring is \"man\"\n",
    "s1==\"una\""
   ]
  },
  {
   "cell_type": "code",
   "execution_count": 39,
   "metadata": {},
   "outputs": [
    {
     "name": "stdout",
     "output_type": "stream",
     "text": [
      "KunalDhand\n"
     ]
    }
   ],
   "source": [
    "#Create two string varibales with your name(Aman) and your surname(Kumar) and generate a third string with having your full name\n",
    "name=\"Kunal\"\n",
    "surname=\"Dhand\"\n",
    "fullname=name+surname\n",
    "print(fullname)"
   ]
  },
  {
   "cell_type": "code",
   "execution_count": 40,
   "metadata": {},
   "outputs": [
    {
     "name": "stdout",
     "output_type": "stream",
     "text": [
      "KunalDhand\n"
     ]
    }
   ],
   "source": [
    "#Print your full name here\n",
    "print(fullname)"
   ]
  },
  {
   "cell_type": "code",
   "execution_count": 41,
   "metadata": {},
   "outputs": [
    {
     "name": "stdout",
     "output_type": "stream",
     "text": [
      "Kunal Dhand\n"
     ]
    }
   ],
   "source": [
    "#Now insert a space in between as well\n",
    "com_name=name+\" \"+surname\n",
    "print(com_name)"
   ]
  },
  {
   "cell_type": "code",
   "execution_count": 42,
   "metadata": {},
   "outputs": [
    {
     "name": "stdout",
     "output_type": "stream",
     "text": [
      "Kunal Dhand\n"
     ]
    }
   ],
   "source": [
    "#Print your name again\n",
    "print(com_name)"
   ]
  },
  {
   "cell_type": "code",
   "execution_count": 43,
   "metadata": {},
   "outputs": [
    {
     "name": "stdout",
     "output_type": "stream",
     "text": [
      " Hello, my name is Kunal\n",
      "Hello, my name is Kunal\n"
     ]
    }
   ],
   "source": [
    "#create a sentence(\" Hello, my name is Aman \") with space in front and back and remove it using \"strip\" method\n",
    "sen=\" Hello, my name is Kunal\"\n",
    "print(sen)\n",
    "print(sen.strip())"
   ]
  },
  {
   "cell_type": "code",
   "execution_count": 44,
   "metadata": {},
   "outputs": [
    {
     "name": "stdout",
     "output_type": "stream",
     "text": [
      "19\n"
     ]
    }
   ],
   "source": [
    "#create a sentence \"mysentence\" having value \"Hello, how are you?\"  and find length using \"len\" method\n",
    "mysentence=\"Hello, how are you?\"\n",
    "print(len(mysentence))"
   ]
  },
  {
   "cell_type": "code",
   "execution_count": 48,
   "metadata": {},
   "outputs": [
    {
     "name": "stdout",
     "output_type": "stream",
     "text": [
      "hello, how are you?\n"
     ]
    }
   ],
   "source": [
    "#convert \"mysentence\" to all lowercase\n",
    "print(mysentence.lower())"
   ]
  },
  {
   "cell_type": "code",
   "execution_count": 49,
   "metadata": {},
   "outputs": [
    {
     "name": "stdout",
     "output_type": "stream",
     "text": [
      "HELLO, HOW ARE YOU?\n"
     ]
    }
   ],
   "source": [
    "#convert \"mysentence\" to all uppercase\n",
    "print(mysentence.upper())"
   ]
  },
  {
   "cell_type": "code",
   "execution_count": 54,
   "metadata": {},
   "outputs": [
    {
     "name": "stdout",
     "output_type": "stream",
     "text": [
      "Hell#, h#w are y#u?\n"
     ]
    }
   ],
   "source": [
    "#replace all 'o' in  \"mysentence\" with \"#\"\n",
    "print(mysentence.replace(\"o\",\"#\"))"
   ]
  },
  {
   "cell_type": "code",
   "execution_count": 56,
   "metadata": {},
   "outputs": [
    {
     "name": "stdout",
     "output_type": "stream",
     "text": [
      "['Hello,', 'how', 'are', 'you?']\n"
     ]
    }
   ],
   "source": [
    "#split \"mysentence\" in words\n",
    "print(mysentence.split())"
   ]
  },
  {
   "cell_type": "code",
   "execution_count": 59,
   "metadata": {},
   "outputs": [
    {
     "name": "stdout",
     "output_type": "stream",
     "text": [
      "Hello, how are you?\n"
     ]
    }
   ],
   "source": [
    "#capitalize \"mysentence\" - (make first character as capital)\n",
    "print(mysentence.capitalize())"
   ]
  },
  {
   "cell_type": "code",
   "execution_count": null,
   "metadata": {},
   "outputs": [],
   "source": []
  }
 ],
 "metadata": {
  "kernelspec": {
   "display_name": "Python 3",
   "language": "python",
   "name": "python3"
  },
  "language_info": {
   "codemirror_mode": {
    "name": "ipython",
    "version": 3
   },
   "file_extension": ".py",
   "mimetype": "text/x-python",
   "name": "python",
   "nbconvert_exporter": "python",
   "pygments_lexer": "ipython3",
   "version": "3.6.13"
  }
 },
 "nbformat": 4,
 "nbformat_minor": 4
}
